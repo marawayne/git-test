{
  "nbformat": 4,
  "nbformat_minor": 0,
  "metadata": {
    "colab": {
      "name": "util.ipynb",
      "version": "0.3.2",
      "provenance": [],
      "include_colab_link": true
    },
    "kernelspec": {
      "name": "python3",
      "display_name": "Python 3"
    }
  },
  "cells": [
    {
      "cell_type": "markdown",
      "metadata": {
        "id": "view-in-github",
        "colab_type": "text"
      },
      "source": [
        "<a href=\"https://colab.research.google.com/github/marawayne/git-test/blob/master/util.ipynb\" target=\"_parent\"><img src=\"https://colab.research.google.com/assets/colab-badge.svg\" alt=\"Open In Colab\"/></a>"
      ]
    },
    {
      "cell_type": "code",
      "metadata": {
        "id": "K-e3fRy9wG8Y",
        "colab_type": "code",
        "colab": {}
      },
      "source": [
        "import os\n",
        "import pandas as pd\n",
        "import matplotlib.pyplot as plt"
      ],
      "execution_count": 0,
      "outputs": []
    },
    {
      "cell_type": "code",
      "metadata": {
        "id": "4HION_wNwV90",
        "colab_type": "code",
        "colab": {}
      },
      "source": [
        ""
      ],
      "execution_count": 0,
      "outputs": []
    },
    {
      "cell_type": "code",
      "metadata": {
        "id": "tavIHrA_wYcs",
        "colab_type": "code",
        "outputId": "e16a426d-a978-4062-d454-52ee6b3136ed",
        "colab": {
          "base_uri": "https://localhost:8080/",
          "height": 35
        }
      },
      "source": [
        "from google.colab import drive\n",
        "drive.mount('/content/drive')"
      ],
      "execution_count": 0,
      "outputs": [
        {
          "output_type": "stream",
          "text": [
            "Drive already mounted at /content/drive; to attempt to forcibly remount, call drive.mount(\"/content/drive\", force_remount=True).\n"
          ],
          "name": "stdout"
        }
      ]
    },
    {
      "cell_type": "code",
      "metadata": {
        "id": "0djmXEfMwIRO",
        "colab_type": "code",
        "colab": {}
      },
      "source": [
        "\"\"\"Compute daily returns.\"\"\"\n",
        "\n",
        "def symbol_to_path(symbol, base_dir=\"/content/drive/My Drive/ML/mldata/financial\"):\n",
        "    \"\"\"Return CSV file path given ticker symbol.\"\"\"\n",
        "    return os.path.join(base_dir, \"{}.csv\".format(str(symbol)))\n",
        "\n",
        "\n",
        "\n",
        "def get_data(symbols, dates):\n",
        "    \"\"\"Read stock data (adjusted close) for given symbols from CSV files.\"\"\"\n",
        "    df = pd.DataFrame(index=dates)\n",
        "    if 'SPY' not in symbols:  # add SPY for reference, if absent\n",
        "        symbols.insert(0, 'SPY')\n",
        "\n",
        "    for symbol in symbols:\n",
        "        df_temp = pd.read_csv(symbol_to_path(symbol), index_col='date',\n",
        "                parse_dates=True, usecols=['date', 'close'], na_values=['nan'])\n",
        "        df_temp = df_temp.rename(columns={'close': symbol})\n",
        "        df = df.join(df_temp)\n",
        "        if symbol == 'SPY':  # drop dates SPY did not trade\n",
        "            df = df.dropna(subset=[\"SPY\"])\n",
        "\n",
        "    return df\n",
        "\n",
        "\n",
        "def plot_data(df, title=\"Stock prices\", xlabel=\"Date\", ylabel=\"Price\"):\n",
        "    \"\"\"Plot stock prices with a custom title and meaningful axis labels.\"\"\"\n",
        "    ax = df.plot(title=title, fontsize=12)\n",
        "    ax.set_xlabel(xlabel)\n",
        "    ax.set_ylabel(ylabel)\n",
        "    plt.show()\n",
        "\n"
      ],
      "execution_count": 0,
      "outputs": []
    },
    {
      "cell_type": "code",
      "metadata": {
        "id": "xxi1ZXSByy3o",
        "colab_type": "code",
        "colab": {}
      },
      "source": [
        "def compute_daily_returns(df):\n",
        "    \"\"\"Compute and return the daily return values.\"\"\"\n",
        "    dr = df.copy()\n",
        "    dr[1: ] = (df[1: ] / df[ : -1].values) -1\n",
        "    dr.iloc[0, :] = 0\n",
        "    return dr\n",
        "\n",
        "\n",
        "\n",
        "def test_run():\n",
        "    # Read data\n",
        "    dates = pd.date_range('2012-01-01', '2015-12-31')  # one month only\n",
        "    symbols = ['SPY','IBM', 'XOM']\n",
        "    df = get_data(symbols, dates)\n",
        "    #plot_data(df)\n",
        "\n",
        "    # Compute daily returns\n",
        "    daily_returns = compute_daily_returns(df)\n",
        "    #plot_data(daily_returns, title=\"Daily returns\", ylabel=\"Daily returns\")\n",
        "    \n",
        "    daily_returns.plot(kind='scatter', x = 'XOM', y = 'IBM')\n",
        "    plt.show()\n",
        "    \n"
      ],
      "execution_count": 0,
      "outputs": []
    },
    {
      "cell_type": "code",
      "metadata": {
        "id": "stZuA24Ay0f1",
        "colab_type": "code",
        "outputId": "517859cd-2a96-4899-98e9-90a7815dbbe9",
        "colab": {
          "base_uri": "https://localhost:8080/",
          "height": 283
        }
      },
      "source": [
        "if __name__ == \"__main__\":\n",
        "  test_run()"
      ],
      "execution_count": 0,
      "outputs": [
        {
          "output_type": "display_data",
          "data": {
            "image/png": "[encoded data removed]",
            "text/plain": [
              "<Figure size 432x288 with 1 Axes>"
            ]
          },
          "metadata": {
            "tags": []
          }
        }
      ]
    }
  ]
}