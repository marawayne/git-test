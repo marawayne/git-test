{
  "nbformat": 4,
  "nbformat_minor": 0,
  "metadata": {
    "colab": {
      "name": "Copy of webscrapping.ipynb",
      "provenance": [],
      "mount_file_id": "18FLrAdMfDu3fzOFTgfJ3Bdac2xwUaca4",
      "authorship_tag": "ABX9TyND6DqeKiX2TEV76ef6Nn15",
      "include_colab_link": true
    },
    "kernelspec": {
      "name": "python3",
      "display_name": "Python 3"
    }
  },
  "cells": [
    {
      "cell_type": "markdown",
      "metadata": {
        "id": "view-in-github",
        "colab_type": "text"
      },
      "source": [
        "<a href=\"https://colab.research.google.com/github/marawayne/git-test/blob/master/webscrapping.ipynb\" target=\"_parent\"><img src=\"https://colab.research.google.com/assets/colab-badge.svg\" alt=\"Open In Colab\"/></a>"
      ]
    },
    {
      "cell_type": "code",
      "metadata": {
        "id": "uWeuujyhKvNE",
        "colab_type": "code",
        "colab": {
          "base_uri": "https://localhost:8080/",
          "height": 70
        },
        "outputId": "fb89f0cd-6c8b-455b-bfd9-3e0b8e0ee4ec"
      },
      "source": [
        "import numpy as np\n",
        "import pandas as pd\n",
        "import matplotlib.pyplot as plt\n",
        "import seaborn as sns"
      ],
      "execution_count": null,
      "outputs": [
        {
          "output_type": "stream",
          "text": [
            "/usr/local/lib/python3.6/dist-packages/statsmodels/tools/_testing.py:19: FutureWarning: pandas.util.testing is deprecated. Use the functions in the public API at pandas.testing instead.\n",
            "  import pandas.util.testing as tm\n"
          ],
          "name": "stderr"
        }
      ]
    },
    {
      "cell_type": "code",
      "metadata": {
        "id": "GkoVYSWQvDTw",
        "colab_type": "code",
        "colab": {}
      },
      "source": [
        "years = [2019]\n",
        "\n",
        "site = 'https://www.basketball-reference.com/leagues/NBA_{}_per_game.html'\n",
        "\n",
        "for year in years:\n",
        "  url = site.format(year)\n",
        "  df = pd.read_html(url, header=0)"
      ],
      "execution_count": null,
      "outputs": []
    },
    {
      "cell_type": "code",
      "metadata": {
        "id": "oCukiZcWwTw-",
        "colab_type": "code",
        "colab": {}
      },
      "source": [
        "df2019 = df[0]"
      ],
      "execution_count": null,
      "outputs": []
    },
    {
      "cell_type": "code",
      "metadata": {
        "id": "4mawBAezx7i1",
        "colab_type": "code",
        "colab": {}
      },
      "source": [
        "df = df2019.drop(df2019[df2019.Age== 'Age'].index)"
      ],
      "execution_count": null,
      "outputs": []
    },
    {
      "cell_type": "code",
      "metadata": {
        "id": "iDM_xl8h44bR",
        "colab_type": "code",
        "colab": {}
      },
      "source": [
        "df.head()"
      ],
      "execution_count": null,
      "outputs": []
    },
    {
      "cell_type": "code",
      "metadata": {
        "id": "dItitffI5owX",
        "colab_type": "code",
        "colab": {}
      },
      "source": [
        "df = df.drop(['Rk'], axis=1)\n",
        "df"
      ],
      "execution_count": null,
      "outputs": []
    },
    {
      "cell_type": "code",
      "metadata": {
        "id": "b3YK1Vad6Pg7",
        "colab_type": "code",
        "colab": {}
      },
      "source": [
        "df = df.fillna(0)\n",
        "df.isnull().sum()"
      ],
      "execution_count": null,
      "outputs": []
    },
    {
      "cell_type": "code",
      "metadata": {
        "id": "lDa2awvG7Tvw",
        "colab_type": "code",
        "colab": {}
      },
      "source": [
        "df.to_csv('/content/drive/My Drive/Colab Notebooks/datasets/nba2019.csv', index=False)"
      ],
      "execution_count": null,
      "outputs": []
    }
  ]
}